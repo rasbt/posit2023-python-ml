{
 "cells": [
  {
   "cell_type": "markdown",
   "id": "e8ee4ce0-cfc9-4f9c-8579-1dfb0bfe8415",
   "metadata": {
    "tags": []
   },
   "source": [
    "# 03 -- Exercise + Solution (Data Processing in Python)"
   ]
  },
  {
   "cell_type": "code",
   "execution_count": 1,
   "id": "81031f6d-7520-4767-ae87-7152d69f31ff",
   "metadata": {},
   "outputs": [],
   "source": [
    "%load_ext watermark"
   ]
  },
  {
   "cell_type": "code",
   "execution_count": 2,
   "id": "f0154364-5b46-476f-af2d-5ae2638415c3",
   "metadata": {},
   "outputs": [
    {
     "name": "stdout",
     "output_type": "stream",
     "text": [
      "Author: Sebastian Raschka\n",
      "\n",
      "numpy       : 1.23.5\n",
      "scikit-learn: 1.2.2\n",
      "\n"
     ]
    }
   ],
   "source": [
    "%watermark -a \"Sebastian Raschka\" -p numpy,scikit-learn"
   ]
  },
  {
   "cell_type": "markdown",
   "id": "41bf768f-632c-4707-88db-14588a9722c7",
   "metadata": {},
   "source": [
    "## About the Dataset"
   ]
  },
  {
   "cell_type": "markdown",
   "id": "8da53d18-bac0-4eb4-bbb6-e7c70be8079d",
   "metadata": {},
   "source": [
    "Dataset URL: https://archive.ics.uci.edu/dataset/602/dry+bean+dataset"
   ]
  },
  {
   "cell_type": "markdown",
   "id": "c229132f-0c4b-490b-97c9-a7e895cfca5e",
   "metadata": {},
   "source": [
    "Images of 13,611 grains of 7 different registered dry beans were taken with a high-resolution camera. A total of 16 features; 12 dimensions and 4 shape forms, were obtained from the grains."
   ]
  },
  {
   "cell_type": "markdown",
   "id": "0eb34bbe-c03f-4830-b6be-391c7d6d5325",
   "metadata": {},
   "source": [
    "## Tasks"
   ]
  },
  {
   "cell_type": "markdown",
   "id": "a1d827dd-5133-4264-a38f-edbf79c8ca8d",
   "metadata": {},
   "source": [
    "1. Load the dataset from `data/Dry_Bean_Dataset.csv`\n",
    "\n",
    "2. Identify whether categorical data needs to be encoded\n",
    "\n",
    "3. Remove missing data if applicable (Hint: use `df.isna().sum()`)\n",
    "\n",
    "4. Divide the DataFrame into features `X` and labels `y` (Hint: `df_without_B = df.drop(columns=['B'])`)\n",
    "\n",
    "5. Split the dataset into 60% train data, 10% validation data, 30% test data\n",
    "\n",
    "6. Scale the dataset using z-score normalization (standardization)\n",
    "\n",
    "7. Train a K-nearest neighbor classifier (Hint: feel free to reuse code from the previous exercise, `02-2_exercise.ipynb`)\n"
   ]
  },
  {
   "cell_type": "markdown",
   "id": "79e15caa-9ff0-4da7-9b25-0805745b521e",
   "metadata": {},
   "source": [
    "## Solution"
   ]
  },
  {
   "cell_type": "code",
   "execution_count": 13,
   "id": "2d22d265-9f0d-4696-a35e-0744b7858381",
   "metadata": {},
   "outputs": [
    {
     "data": {
      "text/html": [
       "<div>\n",
       "<style scoped>\n",
       "    .dataframe tbody tr th:only-of-type {\n",
       "        vertical-align: middle;\n",
       "    }\n",
       "\n",
       "    .dataframe tbody tr th {\n",
       "        vertical-align: top;\n",
       "    }\n",
       "\n",
       "    .dataframe thead th {\n",
       "        text-align: right;\n",
       "    }\n",
       "</style>\n",
       "<table border=\"1\" class=\"dataframe\">\n",
       "  <thead>\n",
       "    <tr style=\"text-align: right;\">\n",
       "      <th></th>\n",
       "      <th>Area</th>\n",
       "      <th>Perimeter</th>\n",
       "      <th>MajorAxisLength</th>\n",
       "      <th>MinorAxisLength</th>\n",
       "      <th>AspectRation</th>\n",
       "      <th>Eccentricity</th>\n",
       "      <th>ConvexArea</th>\n",
       "      <th>EquivDiameter</th>\n",
       "      <th>Extent</th>\n",
       "      <th>Solidity</th>\n",
       "      <th>roundness</th>\n",
       "      <th>Compactness</th>\n",
       "      <th>ShapeFactor1</th>\n",
       "      <th>ShapeFactor2</th>\n",
       "      <th>ShapeFactor3</th>\n",
       "      <th>ShapeFactor4</th>\n",
       "      <th>Class</th>\n",
       "    </tr>\n",
       "  </thead>\n",
       "  <tbody>\n",
       "    <tr>\n",
       "      <th>0</th>\n",
       "      <td>28395</td>\n",
       "      <td>610.291</td>\n",
       "      <td>208.178117</td>\n",
       "      <td>173.888747</td>\n",
       "      <td>1.197191</td>\n",
       "      <td>0.549812</td>\n",
       "      <td>28715.0</td>\n",
       "      <td>190.141097</td>\n",
       "      <td>0.763923</td>\n",
       "      <td>0.988855999</td>\n",
       "      <td>0.958027</td>\n",
       "      <td>0.913358</td>\n",
       "      <td>0.007332</td>\n",
       "      <td>0.003147</td>\n",
       "      <td>0.834222</td>\n",
       "      <td>0.998724</td>\n",
       "      <td>SEKER</td>\n",
       "    </tr>\n",
       "    <tr>\n",
       "      <th>1</th>\n",
       "      <td>28734</td>\n",
       "      <td>638.018</td>\n",
       "      <td>200.524796</td>\n",
       "      <td>182.734419</td>\n",
       "      <td>1.097356</td>\n",
       "      <td>0.411785</td>\n",
       "      <td>29172.0</td>\n",
       "      <td>191.272751</td>\n",
       "      <td>0.783968</td>\n",
       "      <td>0.984985603</td>\n",
       "      <td>0.887034</td>\n",
       "      <td>0.953861</td>\n",
       "      <td>0.006979</td>\n",
       "      <td>0.003564</td>\n",
       "      <td>0.909851</td>\n",
       "      <td>0.998430</td>\n",
       "      <td>SEKER</td>\n",
       "    </tr>\n",
       "    <tr>\n",
       "      <th>2</th>\n",
       "      <td>29380</td>\n",
       "      <td>624.110</td>\n",
       "      <td>212.826130</td>\n",
       "      <td>175.931143</td>\n",
       "      <td>1.209713</td>\n",
       "      <td>0.562727</td>\n",
       "      <td>29690.0</td>\n",
       "      <td>193.410904</td>\n",
       "      <td>0.778113</td>\n",
       "      <td>0.989558774</td>\n",
       "      <td>0.947849</td>\n",
       "      <td>0.908774</td>\n",
       "      <td>0.007244</td>\n",
       "      <td>0.003048</td>\n",
       "      <td>0.825871</td>\n",
       "      <td>0.999066</td>\n",
       "      <td>SEKER</td>\n",
       "    </tr>\n",
       "    <tr>\n",
       "      <th>3</th>\n",
       "      <td>30008</td>\n",
       "      <td>645.884</td>\n",
       "      <td>210.557999</td>\n",
       "      <td>182.516516</td>\n",
       "      <td>1.153638</td>\n",
       "      <td>0.498616</td>\n",
       "      <td>30724.0</td>\n",
       "      <td>195.467062</td>\n",
       "      <td>0.782681</td>\n",
       "      <td>0.976695743</td>\n",
       "      <td>0.903936</td>\n",
       "      <td>0.928329</td>\n",
       "      <td>0.007017</td>\n",
       "      <td>0.003215</td>\n",
       "      <td>0.861794</td>\n",
       "      <td>0.994199</td>\n",
       "      <td>SEKER</td>\n",
       "    </tr>\n",
       "    <tr>\n",
       "      <th>4</th>\n",
       "      <td>30140</td>\n",
       "      <td>620.134</td>\n",
       "      <td>201.847882</td>\n",
       "      <td>190.279279</td>\n",
       "      <td>1.060798</td>\n",
       "      <td>0.333680</td>\n",
       "      <td>30417.0</td>\n",
       "      <td>195.896503</td>\n",
       "      <td>0.773098</td>\n",
       "      <td>0.99089325</td>\n",
       "      <td>0.984877</td>\n",
       "      <td>0.970516</td>\n",
       "      <td>0.006697</td>\n",
       "      <td>0.003665</td>\n",
       "      <td>0.941900</td>\n",
       "      <td>0.999166</td>\n",
       "      <td>SEKER</td>\n",
       "    </tr>\n",
       "  </tbody>\n",
       "</table>\n",
       "</div>"
      ],
      "text/plain": [
       "    Area  Perimeter  MajorAxisLength  MinorAxisLength  AspectRation  \\\n",
       "0  28395    610.291       208.178117       173.888747      1.197191   \n",
       "1  28734    638.018       200.524796       182.734419      1.097356   \n",
       "2  29380    624.110       212.826130       175.931143      1.209713   \n",
       "3  30008    645.884       210.557999       182.516516      1.153638   \n",
       "4  30140    620.134       201.847882       190.279279      1.060798   \n",
       "\n",
       "   Eccentricity  ConvexArea  EquivDiameter    Extent     Solidity  roundness  \\\n",
       "0      0.549812     28715.0     190.141097  0.763923  0.988855999   0.958027   \n",
       "1      0.411785     29172.0     191.272751  0.783968  0.984985603   0.887034   \n",
       "2      0.562727     29690.0     193.410904  0.778113  0.989558774   0.947849   \n",
       "3      0.498616     30724.0     195.467062  0.782681  0.976695743   0.903936   \n",
       "4      0.333680     30417.0     195.896503  0.773098   0.99089325   0.984877   \n",
       "\n",
       "   Compactness  ShapeFactor1  ShapeFactor2  ShapeFactor3  ShapeFactor4  Class  \n",
       "0     0.913358      0.007332      0.003147      0.834222      0.998724  SEKER  \n",
       "1     0.953861      0.006979      0.003564      0.909851      0.998430  SEKER  \n",
       "2     0.908774      0.007244      0.003048      0.825871      0.999066  SEKER  \n",
       "3     0.928329      0.007017      0.003215      0.861794      0.994199  SEKER  \n",
       "4     0.970516      0.006697      0.003665      0.941900      0.999166  SEKER  "
      ]
     },
     "execution_count": 13,
     "metadata": {},
     "output_type": "execute_result"
    }
   ],
   "source": [
    "import pandas as pd\n",
    "\n",
    "df = pd.read_csv(\"data/Dry_Bean_Dataset.csv\")\n",
    "df.head()"
   ]
  },
  {
   "cell_type": "code",
   "execution_count": 14,
   "id": "a58563dc-705d-420f-88a5-210b30cad7b3",
   "metadata": {},
   "outputs": [
    {
     "data": {
      "text/plain": [
       "Area               0\n",
       "Perimeter          0\n",
       "MajorAxisLength    0\n",
       "MinorAxisLength    2\n",
       "AspectRation       3\n",
       "Eccentricity       3\n",
       "ConvexArea         3\n",
       "EquivDiameter      2\n",
       "Extent             3\n",
       "Solidity           4\n",
       "roundness          1\n",
       "Compactness        2\n",
       "ShapeFactor1       1\n",
       "ShapeFactor2       2\n",
       "ShapeFactor3       0\n",
       "ShapeFactor4       0\n",
       "Class              0\n",
       "dtype: int64"
      ]
     },
     "execution_count": 14,
     "metadata": {},
     "output_type": "execute_result"
    }
   ],
   "source": [
    "df.isna().sum()"
   ]
  },
  {
   "cell_type": "code",
   "execution_count": 4,
   "id": "cf7bdd61-9290-47fb-809a-a5db448aab29",
   "metadata": {},
   "outputs": [],
   "source": [
    "# drop rows with missing values:\n",
    "df = df.dropna(axis=0)"
   ]
  },
  {
   "cell_type": "code",
   "execution_count": 5,
   "id": "94d93663-11fb-40e6-a52d-e28442441a26",
   "metadata": {},
   "outputs": [],
   "source": [
    "df_X = df.drop(columns=[\"Class\"])\n",
    "df_y = df[\"Class\"]"
   ]
  },
  {
   "cell_type": "code",
   "execution_count": 6,
   "id": "dd93ebe0-c894-4069-8b5c-44967023650e",
   "metadata": {},
   "outputs": [],
   "source": [
    "from sklearn.model_selection import train_test_split\n",
    "\n",
    "X_train, X_temp, y_train, y_temp = train_test_split(\n",
    "    df_X, df_y, test_size=0.4, random_state=123, stratify=df_y)\n",
    "\n",
    "X_val, X_test, y_val, y_test = train_test_split(\n",
    "    X_temp, y_temp, test_size=0.75, random_state=123, stratify=y_temp)"
   ]
  },
  {
   "cell_type": "markdown",
   "id": "c48356eb-d3e9-4284-98e8-e302f2e7794c",
   "metadata": {},
   "source": [
    "**Unnormalized**"
   ]
  },
  {
   "cell_type": "code",
   "execution_count": 7,
   "id": "57d07e03-034e-4bd1-8db7-10e12de06838",
   "metadata": {},
   "outputs": [
    {
     "name": "stdout",
     "output_type": "stream",
     "text": [
      "N neighbors: 1 | Acc: 0.72\n",
      "N neighbors: 2 | Acc: 0.68\n",
      "N neighbors: 3 | Acc: 0.71\n",
      "N neighbors: 4 | Acc: 0.73\n",
      "N neighbors: 5 | Acc: 0.73\n",
      "N neighbors: 6 | Acc: 0.73\n",
      "N neighbors: 7 | Acc: 0.72\n",
      "N neighbors: 8 | Acc: 0.72\n",
      "N neighbors: 9 | Acc: 0.72\n",
      "N neighbors: 10 | Acc: 0.71\n"
     ]
    }
   ],
   "source": [
    "from sklearn.neighbors import KNeighborsClassifier\n",
    "\n",
    "\n",
    "clf = KNeighborsClassifier()\n",
    "\n",
    "\n",
    "for i in range(1, 11):\n",
    "\n",
    "    clf = KNeighborsClassifier(n_neighbors=i)\n",
    "    clf.fit(X_train, y_train)\n",
    "    acc = clf.score(X_val, y_val)\n",
    "    print(f\"N neighbors: {i} | Acc: {acc:.2f}\")"
   ]
  },
  {
   "cell_type": "code",
   "execution_count": 8,
   "id": "956a7318-be57-4cc6-9693-b4e3f6d58eab",
   "metadata": {},
   "outputs": [
    {
     "data": {
      "text/plain": [
       "0.725735294117647"
      ]
     },
     "execution_count": 8,
     "metadata": {},
     "output_type": "execute_result"
    }
   ],
   "source": [
    "clf = KNeighborsClassifier(n_neighbors=1)\n",
    "\n",
    "clf.fit(X_train, y_train)\n",
    "clf.score(X_test, y_test)"
   ]
  },
  {
   "cell_type": "markdown",
   "id": "ae789927-1a64-4f0f-9a1e-219da0ab5c79",
   "metadata": {},
   "source": [
    "**Normalized**"
   ]
  },
  {
   "cell_type": "code",
   "execution_count": 9,
   "id": "558b3fce-1330-4486-9b50-ffff45baf916",
   "metadata": {},
   "outputs": [],
   "source": [
    "from sklearn.preprocessing import StandardScaler\n",
    "\n",
    "scaler = StandardScaler()\n",
    "\n",
    "scaler.fit(X_train)\n",
    "\n",
    "X_train_std = scaler.transform(X_train)\n",
    "X_val_std = scaler.transform(X_val)\n",
    "X_test_std = scaler.transform(X_test)"
   ]
  },
  {
   "cell_type": "code",
   "execution_count": 10,
   "id": "bbdab9cf-4a7e-4ad0-926f-20fcdaed12fa",
   "metadata": {},
   "outputs": [
    {
     "name": "stdout",
     "output_type": "stream",
     "text": [
      "N neighbors: 1 | Acc: 0.90\n",
      "N neighbors: 2 | Acc: 0.89\n",
      "N neighbors: 3 | Acc: 0.91\n",
      "N neighbors: 4 | Acc: 0.92\n",
      "N neighbors: 5 | Acc: 0.92\n",
      "N neighbors: 6 | Acc: 0.91\n",
      "N neighbors: 7 | Acc: 0.92\n",
      "N neighbors: 8 | Acc: 0.92\n",
      "N neighbors: 9 | Acc: 0.92\n",
      "N neighbors: 10 | Acc: 0.92\n"
     ]
    }
   ],
   "source": [
    "clf = KNeighborsClassifier()\n",
    "\n",
    "\n",
    "for i in range(1, 11):\n",
    "\n",
    "    clf = KNeighborsClassifier(n_neighbors=i)\n",
    "    clf.fit(X_train_std, y_train)\n",
    "    acc = clf.score(X_val_std, y_val)\n",
    "    print(f\"N neighbors: {i} | Acc: {acc:.2f}\")"
   ]
  },
  {
   "cell_type": "code",
   "execution_count": 12,
   "id": "fc3938fd-5b80-4b6f-9f27-06416e4ecee8",
   "metadata": {},
   "outputs": [
    {
     "data": {
      "text/plain": [
       "0.924264705882353"
      ]
     },
     "execution_count": 12,
     "metadata": {},
     "output_type": "execute_result"
    }
   ],
   "source": [
    "clf = KNeighborsClassifier(n_neighbors=10)\n",
    "\n",
    "clf.fit(X_train_std, y_train)\n",
    "clf.score(X_test_std, y_test)"
   ]
  },
  {
   "cell_type": "code",
   "execution_count": null,
   "id": "d5b3df49-0e9a-49f6-9e33-3fbe193df844",
   "metadata": {},
   "outputs": [],
   "source": []
  }
 ],
 "metadata": {
  "kernelspec": {
   "display_name": "Python 3 (ipykernel)",
   "language": "python",
   "name": "python3"
  },
  "language_info": {
   "codemirror_mode": {
    "name": "ipython",
    "version": 3
   },
   "file_extension": ".py",
   "mimetype": "text/x-python",
   "name": "python",
   "nbconvert_exporter": "python",
   "pygments_lexer": "ipython3",
   "version": "3.10.6"
  }
 },
 "nbformat": 4,
 "nbformat_minor": 5
}
